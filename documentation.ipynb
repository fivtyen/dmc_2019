{
 "cells": [
  {
   "cell_type": "markdown",
   "metadata": {},
   "source": [
    "## DMC 2019\n",
    "#### Szymon Wieczorek, Mateusz Orlikowski"
   ]
  },
  {
   "cell_type": "markdown",
   "metadata": {},
   "source": [
    "This repository contains the solution to 2019 Data Mining Cup task. Notebooks in the `analysis` folder can be used as the documentation. They describe the whole process starting with the data overview and ending with a quick look at the final results."
   ]
  },
  {
   "cell_type": "markdown",
   "metadata": {},
   "source": [
    "Table of contest:\n",
    "\n",
    "1. [Data overview.](analysis/training_data_overview.ipynb)\n",
    "2. [Data modelling - oversampling and downsampling.](analysis/oversampling_downsampling.ipynb)\n",
    "3. [Model tuning.](analysis/random_forest_tuning.ipynb)\n",
    "4. [Confidence score-based predictions tuning.](analysis/confidencesim_check.ipynb)\n",
    "5. [Results.](analysis/predictions_check.ipynb)"
   ]
  },
  {
   "cell_type": "markdown",
   "metadata": {},
   "source": [
    "Although we tried to include in the notebooks as much of the thought process as possible not all changes of our approach may be clearly reflected in the files. It can create an impression that some parts of the analysis were abandoned without proper exploration."
   ]
  },
  {
   "cell_type": "markdown",
   "metadata": {},
   "source": [
    "Additional scripts used during the process are included in the `s_scripts` directory. Purpose of each of them is explained in the relevant section of the documentation."
   ]
  }
 ],
 "metadata": {
  "kernelspec": {
   "display_name": "Python 3",
   "language": "python",
   "name": "python3"
  },
  "language_info": {
   "codemirror_mode": {
    "name": "ipython",
    "version": 3
   },
   "file_extension": ".py",
   "mimetype": "text/x-python",
   "name": "python",
   "nbconvert_exporter": "python",
   "pygments_lexer": "ipython3",
   "version": "3.6.5"
  }
 },
 "nbformat": 4,
 "nbformat_minor": 2
}
