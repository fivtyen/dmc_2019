{
 "cells": [
  {
   "cell_type": "code",
   "execution_count": 6,
   "metadata": {},
   "outputs": [],
   "source": [
    "import sklearn\n",
    "import pandas as pd\n",
    "import numpy as np\n",
    "#import scikitplot as skplt\n",
    "import matplotlib\n",
    "import matplotlib.pyplot as plt\n",
    "from sklearn.metrics import confusion_matrix, make_scorer\n",
    "\n",
    "from sklearn.metrics import roc_auc_score, precision_score, recall_score, f1_score\n",
    "from sklearn.model_selection import train_test_split\n",
    "from sklearn.utils import resample\n",
    "from sklearn.preprocessing import normalize\n",
    "from sklearn.ensemble import RandomForestClassifier\n",
    "\n",
    "from sklearn.model_selection import GridSearchCV\n",
    "from sklearn.model_selection import RandomizedSearchCV\n",
    "from sklearn.metrics import classification_report\n",
    "\n",
    "from imblearn.over_sampling import SMOTE"
   ]
  },
  {
   "cell_type": "code",
   "execution_count": null,
   "metadata": {},
   "outputs": [],
   "source": []
  },
  {
   "cell_type": "code",
   "execution_count": 90,
   "metadata": {},
   "outputs": [],
   "source": [
    "df = pd.read_csv('../data/train.csv', '|')\n",
    "\n",
    "X, y = df.drop('fraud', axis=1), df['fraud']\n",
    "X_train, X_test, y_train, y_test = train_test_split(X, y, test_size=0.2)\n",
    "\n",
    "sm = SMOTE(random_state=123)\n",
    "X_res, y_res = sm.fit_resample(X_train, y_train)"
   ]
  },
  {
   "cell_type": "code",
   "execution_count": 3,
   "metadata": {},
   "outputs": [],
   "source": [
    "# Number of trees in random forest\n",
    "n_estimators = [int(x) for x in np.linspace(start = 200, stop = 2000, num = 10)]\n",
    "# Number of features to consider at every split\n",
    "max_features = ['auto', 'sqrt']\n",
    "# Maximum number of levels in tree\n",
    "max_depth = [int(x) for x in np.linspace(10, 110, num = 11)]\n",
    "max_depth.append(None)\n",
    "# Minimum number of samples required to split a node\n",
    "min_samples_split = [2, 5, 10]\n",
    "# Minimum number of samples required at each leaf node\n",
    "min_samples_leaf = [1, 2, 4]\n",
    "# Method of selecting samples for training each tree\n",
    "bootstrap = [True, False]\n",
    "\n",
    "# Create the random grid\n",
    "random_grid = {'n_estimators': n_estimators,\n",
    "               'max_features': max_features,\n",
    "               'max_depth': max_depth,\n",
    "               'min_samples_split': min_samples_split,\n",
    "               'min_samples_leaf': min_samples_leaf,\n",
    "               'bootstrap': bootstrap}"
   ]
  },
  {
   "cell_type": "markdown",
   "metadata": {},
   "source": [
    "detailed param grid"
   ]
  },
  {
   "cell_type": "code",
   "execution_count": 77,
   "metadata": {},
   "outputs": [
    {
     "data": {
      "text/plain": [
       "[1300, 1366, 1433, 1500, 1566, 1633, 1700, 1766, 1833, 1900]"
      ]
     },
     "execution_count": 77,
     "metadata": {},
     "output_type": "execute_result"
    }
   ],
   "source": [
    "[int(x) for x in np.linspace(start = 1300, stop = 1900, num = 10)]"
   ]
  },
  {
   "cell_type": "code",
   "execution_count": 78,
   "metadata": {},
   "outputs": [
    {
     "data": {
      "text/plain": [
       "[200, 400, 600, 800, 1000, 1200, 1400, 1600, 1800, 2000]"
      ]
     },
     "execution_count": 78,
     "metadata": {},
     "output_type": "execute_result"
    }
   ],
   "source": [
    "[int(x) for x in np.linspace(start = 200, stop = 2000, num = 10)]"
   ]
  },
  {
   "cell_type": "code",
   "execution_count": 32,
   "metadata": {},
   "outputs": [],
   "source": []
  },
  {
   "cell_type": "code",
   "execution_count": 37,
   "metadata": {},
   "outputs": [],
   "source": [
    "def pf(y,y_pred):\n",
    "    y_true = y\n",
    "    confusion_m = np.array(confusion_matrix(y_true, y_pred))\n",
    "    price_matrix = [[0,-25],[-5,5]]\n",
    "    profit_matrix = np.matmul(confusion_m,price_matrix)\n",
    "    return profit_matrix.sum()"
   ]
  },
  {
   "cell_type": "code",
   "execution_count": 20,
   "metadata": {},
   "outputs": [],
   "source": []
  },
  {
   "cell_type": "code",
   "execution_count": 38,
   "metadata": {
    "scrolled": false
   },
   "outputs": [
    {
     "name": "stdout",
     "output_type": "stream",
     "text": [
      "Fitting 5 folds for each of 200 candidates, totalling 1000 fits\n"
     ]
    },
    {
     "name": "stderr",
     "output_type": "stream",
     "text": [
      "[Parallel(n_jobs=-1)]: Using backend LokyBackend with 12 concurrent workers.\n",
      "[Parallel(n_jobs=-1)]: Done  48 tasks      | elapsed:   34.7s\n",
      "[Parallel(n_jobs=-1)]: Done 138 tasks      | elapsed:  1.9min\n",
      "[Parallel(n_jobs=-1)]: Done 264 tasks      | elapsed:  3.2min\n",
      "[Parallel(n_jobs=-1)]: Done 426 tasks      | elapsed:  5.1min\n",
      "[Parallel(n_jobs=-1)]: Done 624 tasks      | elapsed:  7.1min\n",
      "[Parallel(n_jobs=-1)]: Done 858 tasks      | elapsed:  9.8min\n",
      "[Parallel(n_jobs=-1)]: Done 1000 out of 1000 | elapsed: 11.3min finished\n"
     ]
    },
    {
     "data": {
      "text/plain": [
       "RandomizedSearchCV(cv=5, error_score='raise-deprecating',\n",
       "          estimator=RandomForestClassifier(bootstrap=True, class_weight=None, criterion='gini',\n",
       "            max_depth=None, max_features='auto', max_leaf_nodes=None,\n",
       "            min_impurity_decrease=0.0, min_impurity_split=None,\n",
       "            min_samples_leaf=1, min_samples_split=2,\n",
       "            min_weight_fraction_leaf=0.0, n_estimators='warn', n_jobs=None,\n",
       "            oob_score=False, random_state=None, verbose=0,\n",
       "            warm_start=False),\n",
       "          fit_params=None, iid='warn', n_iter=200, n_jobs=-1,\n",
       "          param_distributions={'n_estimators': [200, 400, 600, 800, 1000, 1200, 1400, 1600, 1800, 2000], 'max_features': ['auto', 'sqrt'], 'max_depth': [10, 20, 30, 40, 50, 60, 70, 80, 90, 100, 110, None], 'min_samples_split': [2, 5, 10], 'min_samples_leaf': [1, 2, 4], 'bootstrap': [True, False]},\n",
       "          pre_dispatch='2*n_jobs', random_state=42, refit=True,\n",
       "          return_train_score=True, scoring=make_scorer(pf), verbose=5)"
      ]
     },
     "execution_count": 38,
     "metadata": {},
     "output_type": "execute_result"
    }
   ],
   "source": [
    "clf = RandomForestClassifier()\n",
    "clf_random = RandomizedSearchCV(estimator = clf, \n",
    "                               param_distributions = random_grid, \n",
    "                               n_iter = 200, \n",
    "                               cv = 5, \n",
    "                               verbose=5, \n",
    "                               random_state=42, \n",
    "                               n_jobs = -1,\n",
    "                               scoring = make_scorer(pf, greater_is_better=True),\n",
    "#                                 scoring = make_scorer()\n",
    "                               return_train_score = True)\n",
    "clf_random.fit(X_res, y_res)"
   ]
  },
  {
   "cell_type": "code",
   "execution_count": null,
   "metadata": {},
   "outputs": [],
   "source": []
  },
  {
   "cell_type": "code",
   "execution_count": 39,
   "metadata": {},
   "outputs": [
    {
     "data": {
      "text/plain": [
       "{'n_estimators': 1600,\n",
       " 'min_samples_split': 5,\n",
       " 'min_samples_leaf': 2,\n",
       " 'max_features': 'sqrt',\n",
       " 'max_depth': 10,\n",
       " 'bootstrap': False}"
      ]
     },
     "execution_count": 39,
     "metadata": {},
     "output_type": "execute_result"
    }
   ],
   "source": [
    "clf_random.best_params_"
   ]
  },
  {
   "cell_type": "code",
   "execution_count": 92,
   "metadata": {},
   "outputs": [
    {
     "name": "stdout",
     "output_type": "stream",
     "text": [
      "Accuracy: 0.994378074490513, precision: 0.9895615866388309, recall: 0.9992972593113141, cost: -35225\n"
     ]
    }
   ],
   "source": [
    "clf2 = RandomForestClassifier(bootstrap=False,\n",
    "                              max_depth=10,\n",
    "                              max_features='sqrt',\n",
    "                              min_samples_leaf=2,\n",
    "                              min_samples_split=5,\n",
    "                              n_estimators=1600)\n",
    "\n",
    "clf2.fit(X_res, y_res)\n",
    "\n",
    "pred = clf2.predict(X_res)\n",
    "acc = clf2.score(X_res, y_res)\n",
    "prec = precision_score(y_res, pred)\n",
    "rec = recall_score(y_res, pred)\n",
    "cost = pf(y_res, pred)\n",
    "\n",
    "print('Accuracy: {}, precision: {}, recall: {}, cost: {}'.format(acc, prec, rec, cost))"
   ]
  },
  {
   "cell_type": "markdown",
   "metadata": {},
   "source": [
    "detailed param grid"
   ]
  },
  {
   "cell_type": "code",
   "execution_count": 82,
   "metadata": {},
   "outputs": [],
   "source": [
    "# Number of trees in random forest\n",
    "n_estimators = [int(x) for x in np.linspace(start = 1300, stop = 1900, num = 10)]\n",
    "# Number of features to consider at every split\n",
    "max_features = ['sqrt']\n",
    "# Maximum number of levels in tree\n",
    "max_depth = ([int(x) for x in np.linspace(5, 15, num = 11)])\n",
    "max_depth.append(None)\n",
    "# Minimum number of samples required to split a node\n",
    "min_samples_split = [3,4,5,6,7]\n",
    "# Minimum number of samples required at each leaf node\n",
    "min_samples_leaf = [2, 3]\n",
    "# Method of selecting samples for training each tree\n",
    "bootstrap = [False]\n",
    "\n",
    "# Create the random grid\n",
    "detail_grid = {'n_estimators': n_estimators,\n",
    "               'max_features': max_features,\n",
    "               'max_depth': max_depth,\n",
    "               'min_samples_split': min_samples_split,\n",
    "               'min_samples_leaf': min_samples_leaf,\n",
    "               'bootstrap': bootstrap}"
   ]
  },
  {
   "cell_type": "code",
   "execution_count": null,
   "metadata": {},
   "outputs": [],
   "source": []
  },
  {
   "cell_type": "code",
   "execution_count": null,
   "metadata": {},
   "outputs": [],
   "source": []
  },
  {
   "cell_type": "code",
   "execution_count": 84,
   "metadata": {},
   "outputs": [
    {
     "name": "stdout",
     "output_type": "stream",
     "text": [
      "Fitting 5 folds for each of 1200 candidates, totalling 6000 fits\n"
     ]
    },
    {
     "name": "stderr",
     "output_type": "stream",
     "text": [
      "[Parallel(n_jobs=-1)]: Using backend LokyBackend with 12 concurrent workers.\n",
      "[Parallel(n_jobs=-1)]: Done  48 tasks      | elapsed:   34.7s\n",
      "[Parallel(n_jobs=-1)]: Done 138 tasks      | elapsed:  1.7min\n",
      "[Parallel(n_jobs=-1)]: Done 264 tasks      | elapsed:  3.2min\n",
      "[Parallel(n_jobs=-1)]: Done 426 tasks      | elapsed:  4.9min\n",
      "[Parallel(n_jobs=-1)]: Done 624 tasks      | elapsed:  7.2min\n",
      "[Parallel(n_jobs=-1)]: Done 858 tasks      | elapsed: 10.0min\n",
      "[Parallel(n_jobs=-1)]: Done 1128 tasks      | elapsed: 13.4min\n",
      "[Parallel(n_jobs=-1)]: Done 1434 tasks      | elapsed: 17.4min\n",
      "[Parallel(n_jobs=-1)]: Done 1776 tasks      | elapsed: 22.1min\n",
      "[Parallel(n_jobs=-1)]: Done 2154 tasks      | elapsed: 27.7min\n",
      "[Parallel(n_jobs=-1)]: Done 2568 tasks      | elapsed: 34.4min\n",
      "[Parallel(n_jobs=-1)]: Done 3018 tasks      | elapsed: 42.0min\n",
      "[Parallel(n_jobs=-1)]: Done 3504 tasks      | elapsed: 50.5min\n",
      "[Parallel(n_jobs=-1)]: Done 4026 tasks      | elapsed: 59.4min\n",
      "[Parallel(n_jobs=-1)]: Done 4584 tasks      | elapsed: 69.4min\n",
      "[Parallel(n_jobs=-1)]: Done 5178 tasks      | elapsed: 80.3min\n",
      "[Parallel(n_jobs=-1)]: Done 5808 tasks      | elapsed: 91.9min\n",
      "[Parallel(n_jobs=-1)]: Done 6000 out of 6000 | elapsed: 95.4min finished\n"
     ]
    },
    {
     "data": {
      "text/plain": [
       "GridSearchCV(cv=5, error_score='raise-deprecating',\n",
       "       estimator=RandomForestClassifier(bootstrap=True, class_weight=None, criterion='gini',\n",
       "            max_depth=None, max_features='auto', max_leaf_nodes=None,\n",
       "            min_impurity_decrease=0.0, min_impurity_split=None,\n",
       "            min_samples_leaf=1, min_samples_split=2,\n",
       "            min_weight_fraction_leaf=0.0, n_estimators='warn', n_jobs=None,\n",
       "            oob_score=False, random_state=None, verbose=0,\n",
       "            warm_start=False),\n",
       "       fit_params=None, iid='warn', n_jobs=-1,\n",
       "       param_grid={'n_estimators': [1300, 1366, 1433, 1500, 1566, 1633, 1700, 1766, 1833, 1900], 'max_features': ['sqrt'], 'max_depth': [5, 6, 7, 8, 9, 10, 11, 12, 13, 14, 15, None], 'min_samples_split': [3, 4, 5, 6, 7], 'min_samples_leaf': [2, 3], 'bootstrap': [False]},\n",
       "       pre_dispatch='2*n_jobs', refit=True, return_train_score='warn',\n",
       "       scoring=None, verbose=5)"
      ]
     },
     "execution_count": 84,
     "metadata": {},
     "output_type": "execute_result"
    }
   ],
   "source": [
    "grid_clf = GridSearchCV(estimator = clf, param_grid = detail_grid, \n",
    "                          cv = 5, n_jobs = -1, verbose = 5)\n",
    "grid_clf.fit(X_res,y_res)"
   ]
  },
  {
   "cell_type": "code",
   "execution_count": 85,
   "metadata": {},
   "outputs": [
    {
     "data": {
      "text/plain": [
       "{'bootstrap': False,\n",
       " 'max_depth': None,\n",
       " 'max_features': 'sqrt',\n",
       " 'min_samples_leaf': 2,\n",
       " 'min_samples_split': 3,\n",
       " 'n_estimators': 1300}"
      ]
     },
     "execution_count": 85,
     "metadata": {},
     "output_type": "execute_result"
    }
   ],
   "source": [
    "grid_clf.best_params_"
   ]
  },
  {
   "cell_type": "code",
   "execution_count": 91,
   "metadata": {},
   "outputs": [
    {
     "name": "stdout",
     "output_type": "stream",
     "text": [
      "Accuracy: 1.0, precision: 1.0, recall: 1.0, cost: -35575\n"
     ]
    }
   ],
   "source": [
    "clf3 = RandomForestClassifier(bootstrap=False,\n",
    "                              max_depth=None,\n",
    "                              max_features='sqrt',\n",
    "                              min_samples_leaf=2,\n",
    "                              min_samples_split=3,\n",
    "                              n_estimators=1300)\n",
    "\n",
    "clf3.fit(X_res, y_res)\n",
    "\n",
    "pred = clf3.predict(X_res)\n",
    "acc = clf3.score(X_res, y_res)\n",
    "prec = precision_score(y_res, pred)\n",
    "rec = recall_score(y_res, pred)\n",
    "cost = pf(y_res, pred)\n",
    "\n",
    "print('Accuracy: {}, precision: {}, recall: {}, cost: {}'.format(acc, prec, rec, cost))"
   ]
  },
  {
   "cell_type": "code",
   "execution_count": null,
   "metadata": {},
   "outputs": [],
   "source": []
  }
 ],
 "metadata": {
  "kernelspec": {
   "display_name": "Python 3",
   "language": "python",
   "name": "python3"
  },
  "language_info": {
   "codemirror_mode": {
    "name": "ipython",
    "version": 3
   },
   "file_extension": ".py",
   "mimetype": "text/x-python",
   "name": "python",
   "nbconvert_exporter": "python",
   "pygments_lexer": "ipython3",
   "version": "3.7.1"
  }
 },
 "nbformat": 4,
 "nbformat_minor": 2
}
